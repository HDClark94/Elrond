{
 "cells": [
  {
   "cell_type": "markdown",
   "id": "ad5ebd7f-46b2-4683-a846-9406d90c3c67",
   "metadata": {},
   "source": [
    "# Make a nwb file\n",
    "\n",
    "Let's create an nwb file! To do this, you'll need a metadata yaml file, and all your data. \n",
    "\n",
    "The following python packages need to be installed:\n",
    "\n",
    "- spikeinterface\n",
    "- neuroconv (Chris style: https://github.com/chrishalcrow/neuroconv/tree/add_time_series)\n",
    "\n",
    "First step: let's read in the data and couple the recording to a probe."
   ]
  },
  {
   "cell_type": "code",
   "execution_count": 2,
   "id": "293a7895-8317-4d1c-a4b7-8d82eab11d55",
   "metadata": {},
   "outputs": [],
   "source": [
    "import numpy as np\n",
    "import probeinterface as pi\n",
    "\n",
    "\n",
    "def tetrode_probe():\n",
    "\n",
    "    geometry = np.array([[   0,  0], [  25,  0], [  25, 25], [  0,  25],\n",
    "                         [200, 200], [225, 200], [225, 225], [200, 225],\n",
    "                         [400, 400], [425, 400], [425, 425], [400, 425],\n",
    "                         [600, 600], [625, 600], [625, 625], [600, 625]])\n",
    "    \n",
    "    probe = pi.Probe(ndim=2, si_units='um')\n",
    "    probe.set_contacts(positions=geometry, shapes='circle', shape_params={'radius': 5})\n",
    "    probe.set_device_channel_indices(np.arange(16))\n",
    "    probe.set_shank_ids(shank_ids=[0,0,0,0,1,1,1,1,2,2,2,2,3,3,3,3])\n",
    "\n",
    "    return probe\n"
   ]
  },
  {
   "cell_type": "code",
   "execution_count": 35,
   "id": "eef1b2e4-df1e-4a76-9998-77c14ac21a73",
   "metadata": {},
   "outputs": [],
   "source": [
    "from neuroconv.datainterfaces import OpenEphysRecordingInterface\n",
    "from neuroconv.utils.dict import load_dict_from_file\n",
    "from neuroconv.datainterfaces import CsvTimeSeriesInterface\n",
    "\n",
    "from neuroconv.datainterfaces import OpenEphysRecordingInterface\n",
    "folder_path = f\"data\"\n",
    "my_ephys_interface = OpenEphysRecordingInterface(folder_path=folder_path, stream_name=\"Signals CH\")\n",
    "\n",
    "probe = tetrode_probe()\n",
    "my_ephys_interface.recording_extractor.set_probe(probe, group_mode=\"by_shank\", in_place=True)\n",
    "\n",
    "ephys_folder_path = f\"data\"\n",
    "metadata_path = f\"metadata_with_pos.yml\"\n",
    "\n",
    "# read in the metadata\n",
    "metadata_from_yaml = load_dict_from_file(file_path=metadata_path)\n",
    "\n",
    "# get the ephys data\n",
    "my_ephys_interface = OpenEphysRecordingInterface(folder_path=ephys_folder_path, stream_name=\"Signals CH\")\n",
    "probe = tetrode_probe()\n",
    "my_ephys_interface.recording_extractor.set_probe(probe, group_mode=\"by_shank\", in_place=True)\n",
    "\n",
    "# get the time series data. Note the series_names MUST match the time_series_names in your yaml file,\n",
    "# so that the metadata and data get coupled.\n",
    "file_path = f\"data/position_data.csv\"\n",
    "ts_interface = CsvTimeSeriesInterface(file_path=file_path, series_name = 'Position')\n",
    "file_path2 = f\"foo3.csv\"\n",
    "ts_interface2 = CsvTimeSeriesInterface(file_path=file_path2, series_name = 'Eye-tracking')"
   ]
  },
  {
   "cell_type": "markdown",
   "id": "3442913e-fa81-452f-be67-52b173c4e420",
   "metadata": {},
   "source": [
    "Two possible problems: 1) Sometimes you might have saved more data in your TimeSeries that you really want. 2) The time column should be called 'timestamps', for internal use in Neuroconv.\n",
    "\n",
    "Consider the time series we've just loaded in:"
   ]
  },
  {
   "cell_type": "code",
   "execution_count": 36,
   "id": "76aaecbe-1b03-48aa-804a-f56f15aa988c",
   "metadata": {},
   "outputs": [
    {
     "data": {
      "text/html": [
       "<div>\n",
       "<style scoped>\n",
       "    .dataframe tbody tr th:only-of-type {\n",
       "        vertical-align: middle;\n",
       "    }\n",
       "\n",
       "    .dataframe tbody tr th {\n",
       "        vertical-align: top;\n",
       "    }\n",
       "\n",
       "    .dataframe thead th {\n",
       "        text-align: right;\n",
       "    }\n",
       "</style>\n",
       "<table border=\"1\" class=\"dataframe\">\n",
       "  <thead>\n",
       "    <tr style=\"text-align: right;\">\n",
       "      <th></th>\n",
       "      <th>Unnamed: 0.2</th>\n",
       "      <th>Unnamed: 0</th>\n",
       "      <th>Unnamed: 0.1</th>\n",
       "      <th>Unnamed: 0.1.1</th>\n",
       "      <th>x_position_cm</th>\n",
       "      <th>trial_number</th>\n",
       "      <th>trial_type</th>\n",
       "      <th>time_seconds</th>\n",
       "    </tr>\n",
       "  </thead>\n",
       "  <tbody>\n",
       "    <tr>\n",
       "      <th>0</th>\n",
       "      <td>0</td>\n",
       "      <td>0</td>\n",
       "      <td>0</td>\n",
       "      <td>0</td>\n",
       "      <td>7.650576</td>\n",
       "      <td>1</td>\n",
       "      <td>0</td>\n",
       "      <td>0.000</td>\n",
       "    </tr>\n",
       "    <tr>\n",
       "      <th>1</th>\n",
       "      <td>1</td>\n",
       "      <td>1</td>\n",
       "      <td>1</td>\n",
       "      <td>30</td>\n",
       "      <td>7.649772</td>\n",
       "      <td>1</td>\n",
       "      <td>0</td>\n",
       "      <td>0.001</td>\n",
       "    </tr>\n",
       "    <tr>\n",
       "      <th>2</th>\n",
       "      <td>2</td>\n",
       "      <td>2</td>\n",
       "      <td>2</td>\n",
       "      <td>60</td>\n",
       "      <td>7.648908</td>\n",
       "      <td>1</td>\n",
       "      <td>0</td>\n",
       "      <td>0.002</td>\n",
       "    </tr>\n",
       "    <tr>\n",
       "      <th>3</th>\n",
       "      <td>3</td>\n",
       "      <td>3</td>\n",
       "      <td>3</td>\n",
       "      <td>90</td>\n",
       "      <td>7.648025</td>\n",
       "      <td>1</td>\n",
       "      <td>0</td>\n",
       "      <td>0.003</td>\n",
       "    </tr>\n",
       "    <tr>\n",
       "      <th>4</th>\n",
       "      <td>4</td>\n",
       "      <td>4</td>\n",
       "      <td>4</td>\n",
       "      <td>120</td>\n",
       "      <td>7.647167</td>\n",
       "      <td>1</td>\n",
       "      <td>0</td>\n",
       "      <td>0.004</td>\n",
       "    </tr>\n",
       "    <tr>\n",
       "      <th>...</th>\n",
       "      <td>...</td>\n",
       "      <td>...</td>\n",
       "      <td>...</td>\n",
       "      <td>...</td>\n",
       "      <td>...</td>\n",
       "      <td>...</td>\n",
       "      <td>...</td>\n",
       "      <td>...</td>\n",
       "    </tr>\n",
       "    <tr>\n",
       "      <th>1901700</th>\n",
       "      <td>1901700</td>\n",
       "      <td>1901700</td>\n",
       "      <td>1901700</td>\n",
       "      <td>57051000</td>\n",
       "      <td>89.375000</td>\n",
       "      <td>197</td>\n",
       "      <td>0</td>\n",
       "      <td>1901.700</td>\n",
       "    </tr>\n",
       "    <tr>\n",
       "      <th>1901701</th>\n",
       "      <td>1901701</td>\n",
       "      <td>1901701</td>\n",
       "      <td>1901701</td>\n",
       "      <td>57051030</td>\n",
       "      <td>89.375000</td>\n",
       "      <td>197</td>\n",
       "      <td>0</td>\n",
       "      <td>1901.701</td>\n",
       "    </tr>\n",
       "    <tr>\n",
       "      <th>1901702</th>\n",
       "      <td>1901702</td>\n",
       "      <td>1901702</td>\n",
       "      <td>1901702</td>\n",
       "      <td>57051060</td>\n",
       "      <td>89.375000</td>\n",
       "      <td>197</td>\n",
       "      <td>0</td>\n",
       "      <td>1901.702</td>\n",
       "    </tr>\n",
       "    <tr>\n",
       "      <th>1901703</th>\n",
       "      <td>1901703</td>\n",
       "      <td>1901703</td>\n",
       "      <td>1901703</td>\n",
       "      <td>57051090</td>\n",
       "      <td>89.375000</td>\n",
       "      <td>197</td>\n",
       "      <td>0</td>\n",
       "      <td>1901.703</td>\n",
       "    </tr>\n",
       "    <tr>\n",
       "      <th>1901704</th>\n",
       "      <td>1901704</td>\n",
       "      <td>1901704</td>\n",
       "      <td>1901704</td>\n",
       "      <td>57051120</td>\n",
       "      <td>89.375000</td>\n",
       "      <td>197</td>\n",
       "      <td>0</td>\n",
       "      <td>1901.704</td>\n",
       "    </tr>\n",
       "  </tbody>\n",
       "</table>\n",
       "<p>1901705 rows × 8 columns</p>\n",
       "</div>"
      ],
      "text/plain": [
       "         Unnamed: 0.2  Unnamed: 0  Unnamed: 0.1  Unnamed: 0.1.1  \\\n",
       "0                   0           0             0               0   \n",
       "1                   1           1             1              30   \n",
       "2                   2           2             2              60   \n",
       "3                   3           3             3              90   \n",
       "4                   4           4             4             120   \n",
       "...               ...         ...           ...             ...   \n",
       "1901700       1901700     1901700       1901700        57051000   \n",
       "1901701       1901701     1901701       1901701        57051030   \n",
       "1901702       1901702     1901702       1901702        57051060   \n",
       "1901703       1901703     1901703       1901703        57051090   \n",
       "1901704       1901704     1901704       1901704        57051120   \n",
       "\n",
       "         x_position_cm  trial_number  trial_type  time_seconds  \n",
       "0             7.650576             1           0         0.000  \n",
       "1             7.649772             1           0         0.001  \n",
       "2             7.648908             1           0         0.002  \n",
       "3             7.648025             1           0         0.003  \n",
       "4             7.647167             1           0         0.004  \n",
       "...                ...           ...         ...           ...  \n",
       "1901700      89.375000           197           0      1901.700  \n",
       "1901701      89.375000           197           0      1901.701  \n",
       "1901702      89.375000           197           0      1901.702  \n",
       "1901703      89.375000           197           0      1901.703  \n",
       "1901704      89.375000           197           0      1901.704  \n",
       "\n",
       "[1901705 rows x 8 columns]"
      ]
     },
     "execution_count": 36,
     "metadata": {},
     "output_type": "execute_result"
    }
   ],
   "source": [
    "ts_interface.dataframe"
   ]
  },
  {
   "cell_type": "markdown",
   "id": "9237a3aa-2f7d-4c3c-aece-7d1957dea1e2",
   "metadata": {},
   "source": [
    "Let's only keep the time, position, trial number and trial type columns. Then rename 'time_seconds' to 'timestamps'."
   ]
  },
  {
   "cell_type": "code",
   "execution_count": 37,
   "id": "8e729f8b-d5bb-4355-a0c3-a10dfa0f167b",
   "metadata": {},
   "outputs": [],
   "source": [
    "import pandas as pd\n",
    "\n",
    "ts_interface.dataframe = ts_interface.dataframe[['time_seconds', 'x_position_cm', 'trial_number', 'trial_type']]\n",
    "ts_interface.dataframe = new_ts_interface.dataframe.rename(columns={\"time_seconds\": 'timestamps'})\n"
   ]
  },
  {
   "cell_type": "markdown",
   "id": "fe206420-1c9f-4722-89ea-245baa91694d",
   "metadata": {},
   "source": [
    "NWB is a bit particular about how times and dates are stored. So let's set that carefully..."
   ]
  },
  {
   "cell_type": "code",
   "execution_count": 38,
   "id": "988cbb99-5fb9-42c6-9501-15111ecfca7d",
   "metadata": {},
   "outputs": [],
   "source": [
    "from datetime import datetime\n",
    "from dateutil import tz\n",
    "\n",
    "session_start_time = datetime(2020, 1, 1, 12, 30, 0, tzinfo=tz.gettz(\"US/Pacific\"))\n",
    "metadata_from_yaml['NWBFile']['session_start_time'] = session_start_time\n",
    "metadata_from_yaml['Ecephys']['ElectricalSeries']['starting_time'] = session_start_time\n"
   ]
  },
  {
   "cell_type": "markdown",
   "id": "cf7ea90b-ba3c-45f6-ba70-2f5e58fbc99a",
   "metadata": {},
   "source": [
    "Combine all the interfaces into one \"pipe\""
   ]
  },
  {
   "cell_type": "code",
   "execution_count": null,
   "id": "e3194ac1-0326-42ac-86d0-df788950d303",
   "metadata": {},
   "outputs": [],
   "source": [
    "from neuroconv import ConverterPipe\n",
    "data_interfaces = [my_ephys_interface, ts_interface, ts_interface2]\n",
    "all_the_data = ConverterPipe(data_interfaces=data_interfaces)"
   ]
  },
  {
   "cell_type": "markdown",
   "id": "b7abc86c-c009-403a-acf4-2d58c6681ea9",
   "metadata": {},
   "source": [
    "And we can now convert it!"
   ]
  },
  {
   "cell_type": "markdown",
   "id": "6f6e02dd-227b-45a6-a9fe-419c07737660",
   "metadata": {},
   "source": [
    "nwbfile_path = \"harrys_lovely_daya.nwb\"\n",
    "all_the_data.run_conversion(nwbfile_path=nwbfile_path, metadata=metadata_from_yaml)"
   ]
  },
  {
   "cell_type": "markdown",
   "id": "298be0a6-22af-4df8-bb75-2ae90af4bae9",
   "metadata": {},
   "source": [
    "Well done!"
   ]
  },
  {
   "cell_type": "markdown",
   "id": "afc5f95b-d00d-45f4-94ca-62c5aa57b824",
   "metadata": {},
   "source": [
    "# How to use with SpikeInterface"
   ]
  },
  {
   "cell_type": "markdown",
   "id": "274c6bff-db89-44b5-a396-a002f5f7adc5",
   "metadata": {},
   "source": [
    "One reason for doing this is that everything should be set up so that importing this into spikeinterface is SUPER simple. Let's try, for fun."
   ]
  },
  {
   "cell_type": "code",
   "execution_count": null,
   "id": "400e8479-b5ef-4bc0-a0e6-7836c7667ecc",
   "metadata": {},
   "outputs": [],
   "source": [
    "from spikeinterface.extractors import read_nwb\n",
    "\n",
    "recording = read_nwb(\"harrys_lovely_daya.nwb\")\n",
    "print(recording)"
   ]
  },
  {
   "cell_type": "markdown",
   "id": "2aebe08d-50ae-41ed-8434-00cdfff196f0",
   "metadata": {},
   "source": [
    "Cool! And you'll notice that the probe is attached too (although it claims it isn't)"
   ]
  },
  {
   "cell_type": "code",
   "execution_count": null,
   "id": "277adc75-ad5f-499f-8bd0-c03dd193b90b",
   "metadata": {},
   "outputs": [],
   "source": [
    "print(recording.has_probe())\n",
    "print(recording.get_channel_locations())"
   ]
  },
  {
   "cell_type": "markdown",
   "id": "4674958d-3871-4b0b-af8a-8ddf9baa50c3",
   "metadata": {},
   "source": [
    "This means we can do spike sorting immediately, without faffing and worrying about probes."
   ]
  },
  {
   "cell_type": "code",
   "execution_count": null,
   "id": "1a1161f4-8ee1-4707-aac5-0de2dfc41e1a",
   "metadata": {},
   "outputs": [],
   "source": [
    "import spikeinterface.full as si\n",
    "si.run_sorter(sorter_name=\"simple\", recording=recording, output_folder=\"simple\")"
   ]
  },
  {
   "cell_type": "markdown",
   "id": "ce442f7f-eaa2-43b4-af9d-6df590b458df",
   "metadata": {},
   "source": [
    "Which is nice and easy for everyone :)"
   ]
  }
 ],
 "metadata": {
  "kernelspec": {
   "display_name": "SpikeDev",
   "language": "python",
   "name": "spikedev"
  },
  "language_info": {
   "codemirror_mode": {
    "name": "ipython",
    "version": 3
   },
   "file_extension": ".py",
   "mimetype": "text/x-python",
   "name": "python",
   "nbconvert_exporter": "python",
   "pygments_lexer": "ipython3",
   "version": "3.11.5"
  }
 },
 "nbformat": 4,
 "nbformat_minor": 5
}
