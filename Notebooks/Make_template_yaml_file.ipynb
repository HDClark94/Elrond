{
 "cells": [
  {
   "cell_type": "markdown",
   "id": "83651abd-7931-4820-8f56-88ff60bf6809",
   "metadata": {},
   "source": [
    "# Make a yaml metadata file"
   ]
  },
  {
   "cell_type": "markdown",
   "id": "d32d9abf-6b62-4759-8e7b-5d6d5cacc3cb",
   "metadata": {},
   "source": [
    "Let's make your default YAML file. You should do this once per experimental design.\n",
    "\n",
    "Please answer the following questions:\n",
    "\n",
    "    - Have you recorded Ephys data?\n",
    "    - If you have time series data, what names do you want to give them?\n",
    "    - Where do you want to save your default YAML file?"
   ]
  },
  {
   "cell_type": "code",
   "execution_count": 88,
   "id": "6200e38c-a8c4-440e-a563-1cdd87920f92",
   "metadata": {},
   "outputs": [],
   "source": [
    "from pathlib import Path\n",
    "\n",
    "recorded_ephys_data = True\n",
    "time_series_names = [\"Licks\", \"Eye-tracking\"]\n",
    "file_path = \"my_metadata_yaml_file.yml\""
   ]
  },
  {
   "cell_type": "markdown",
   "id": "7a08c2d2-42b8-4db9-82c5-c2910099982b",
   "metadata": {},
   "source": [
    "The recording itself and its probe contains metadata, so let's try and get that"
   ]
  },
  {
   "cell_type": "code",
   "execution_count": 89,
   "id": "6782bd24-a5a0-4a42-8271-098764fecf7c",
   "metadata": {},
   "outputs": [],
   "source": [
    "from neuroconv.datainterfaces import OpenEphysRecordingInterface\n",
    "folder_path = f\"data\"\n",
    "my_ephys_interface = OpenEphysRecordingInterface(folder_path=folder_path, stream_name=\"Signals CH\")"
   ]
  },
  {
   "cell_type": "markdown",
   "id": "9ed9515e-8b7a-46f6-be4a-fe1846897da3",
   "metadata": {},
   "source": [
    "We'll now attach a probe to it"
   ]
  },
  {
   "cell_type": "code",
   "execution_count": 90,
   "id": "c5dac6a0-d424-4fe6-9b97-f5c2e9892b44",
   "metadata": {},
   "outputs": [
    {
     "data": {
      "text/plain": [
       "OpenEphysLegacyRecordingExtractor: 16 channels - 30.0kHz - 1 segments - 67,260,416 samples \n",
       "                                   2,242.01s (37.37 minutes) - int16 dtype - 2.00 GiB"
      ]
     },
     "execution_count": 90,
     "metadata": {},
     "output_type": "execute_result"
    }
   ],
   "source": [
    "import numpy as np\n",
    "import probeinterface as pi\n",
    "\n",
    "def tetrode_probe():\n",
    "\n",
    "    geometry = np.array([[   0,  0], [  25,  0], [  25, 25], [  0,  25],\n",
    "                         [200, 200], [225, 200], [225, 225], [200, 225],\n",
    "                         [400, 400], [425, 400], [425, 425], [400, 425],\n",
    "                         [600, 600], [625, 600], [625, 625], [600, 625]])\n",
    "    \n",
    "    probe = pi.Probe(ndim=2, si_units='um')\n",
    "    probe.set_contacts(positions=geometry, shapes='circle', shape_params={'radius': 5})\n",
    "    probe.set_device_channel_indices(np.arange(16))\n",
    "    probe.set_shank_ids(shank_ids=[0,0,0,0,1,1,1,1,2,2,2,2,3,3,3,3])\n",
    "\n",
    "    return probe\n",
    "\n",
    "probe = tetrode_probe()\n",
    "\n",
    "my_ephys_interface.recording_extractor.set_probe(probe, group_mode=\"by_shank\", in_place=True)"
   ]
  },
  {
   "cell_type": "markdown",
   "id": "07fddd48-a5a0-4551-a478-cc6b2ae797a7",
   "metadata": {},
   "source": [
    "That's all we need to do to create the probe. Let's extract all the metadata we can from it, and combine it with our desired TimeSeries stuff."
   ]
  },
  {
   "cell_type": "code",
   "execution_count": 91,
   "id": "94a4842f-e240-43e3-bf7a-28f999366c14",
   "metadata": {},
   "outputs": [],
   "source": [
    "ephys_metadata = my_ephys_interface.get_metadata()\n",
    "\n",
    "for name in time_series_names:\n",
    "\n",
    "    ephys_metadata[name] = {\"name\": name, \n",
    "                        \"description\": '',\n",
    "                        \"comments\": '',\n",
    "                        \"unit\": '',\n",
    "                        \"resolution\": 0.0,\n",
    "                        \"conversion\": 0.0,\n",
    "                        \"offset\": 0.0 }"
   ]
  },
  {
   "cell_type": "markdown",
   "id": "a85d1cd2-24a5-4c96-9d8c-1a27dbdcb380",
   "metadata": {},
   "source": [
    "If you want to combine this metadata file with another one, now's the time to do it. You can merge it with your existing ymal file as follows."
   ]
  },
  {
   "cell_type": "code",
   "execution_count": 93,
   "id": "fe6ed749-d8ba-410d-93bc-964526f17d17",
   "metadata": {},
   "outputs": [],
   "source": [
    "from neuroconv.utils.dict import load_dict_from_file\n",
    "metadata_path = \"basic_metadata.yml\"\n",
    "existing_metadata_from_file = load_dict_from_file(file_path=metadata_path)\n",
    "\n",
    "all_metadata = dict_deep_update(existing_metadata_from_file, ephys_metadata)\n",
    "all_metadata['NWBFile']['identifier'] = ephys_metadata['NWBFile']['identifier']"
   ]
  },
  {
   "cell_type": "markdown",
   "id": "da237935-94dc-46fc-b085-138cecb1ee72",
   "metadata": {},
   "source": [
    "And export the whole metadata file:"
   ]
  },
  {
   "cell_type": "code",
   "execution_count": null,
   "id": "39ae05e0-7cb9-47f5-9e25-3d61332259d2",
   "metadata": {},
   "outputs": [],
   "source": [
    "with open(file_path, 'w') as outfile:\n",
    "    yaml.dump(all_metadata, outfile, default_flow_style=False, sort_keys=False)"
   ]
  },
  {
   "cell_type": "markdown",
   "id": "d2edd7b5-23b1-4399-b8e1-561e06682ea4",
   "metadata": {},
   "source": [
    "This file will be the starting point for each session. Go explore it, and update it as needed.\n",
    "Once it's ready, save it somewhere. It's your starting point that your conversion script will use."
   ]
  }
 ],
 "metadata": {
  "kernelspec": {
   "display_name": "SpikeDev",
   "language": "python",
   "name": "spikedev"
  },
  "language_info": {
   "codemirror_mode": {
    "name": "ipython",
    "version": 3
   },
   "file_extension": ".py",
   "mimetype": "text/x-python",
   "name": "python",
   "nbconvert_exporter": "python",
   "pygments_lexer": "ipython3",
   "version": "3.11.5"
  }
 },
 "nbformat": 4,
 "nbformat_minor": 5
}
