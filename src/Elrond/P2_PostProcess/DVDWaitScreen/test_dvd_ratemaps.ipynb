{
 "cells": [
  {
   "cell_type": "code",
   "execution_count": 1,
   "metadata": {},
   "outputs": [],
   "source": [
    "from Elrond.P2_PostProcess.DVDWaitScreen.dvd import *\n",
    "import matplotlib.pyplot as plt\n"
   ]
  },
  {
   "cell_type": "code",
   "execution_count": null,
   "metadata": {},
   "outputs": [],
   "source": [
    "\n",
    "position_data = pd.read_csv(\"/mnt/datastore/Chris/Cohort12/derivatives/M22/D51/dvd_waitscreen/position_data.csv\")\n",
    "spike_data = pd.read_pickle(\"/mnt/datastore/Chris/Cohort12/derivatives/M22/D51/dvd_waitscreen/kilosort4/spikes.pkl\")\n",
    "position_data[\"position_x\"] = position_data[\"position_x\"]*200\n",
    "position_data[\"position_y\"] = position_data[\"position_y\"]*200\n",
    "position_data[\"position_x_pixels\"] = position_data[\"position_x_pixels\"]*200\n",
    "position_data[\"position_y_pixels\"] = position_data[\"position_y_pixels\"]*200\n",
    "spike_data = add_spatial_variables(spike_data, position_data)\n",
    "min = np.min(position_data[\"position_x_pixels\"])\n",
    "max = np.max(position_data[\"position_x_pixels\"])"
   ]
  },
  {
   "cell_type": "code",
   "execution_count": null,
   "metadata": {},
   "outputs": [],
   "source": [
    "plt.plot(position_data[\"position_x\"]*200, position_data[\"position_y\"]*200)"
   ]
  },
  {
   "cell_type": "code",
   "execution_count": null,
   "metadata": {},
   "outputs": [],
   "source": [
    "\n",
    "for cluster_index, cluster_id in enumerate(spike_data.cluster_id):\n",
    "        cluster_df = spike_data[(spike_data.cluster_id == cluster_id)] # dataframe for that cluster\n",
    "        firing_rate_map_original = cluster_df['firing_maps'].iloc[0]\n",
    "        occupancy_map = cluster_df['occupancy_maps'].iloc[0]\n",
    "        firing_rate_map_original[occupancy_map==0] = np.nan\n",
    "        firing_rate_map = np.rot90(firing_rate_map_original)\n",
    "        firing_rate_map_fig = plt.figure()\n",
    "        firing_rate_map_fig.set_size_inches(5, 5, forward=True)\n",
    "        ax = firing_rate_map_fig.add_subplot(1, 1, 1)  # specify (nrows, ncols, axnum)\n",
    "        ax = plot_utility.style_open_field_plot(ax)\n",
    "        cmap = plt.get_cmap('jet')\n",
    "        cmap.set_bad(\"white\")\n",
    "        rate_map_img = ax.imshow(firing_rate_map, cmap=cmap, interpolation='nearest')\n",
    "        plt.show()\n"
   ]
  },
  {
   "cell_type": "code",
   "execution_count": null,
   "metadata": {},
   "outputs": [],
   "source": [
    "\n",
    "for cluster_index, cluster_id in enumerate(spike_data.cluster_id):\n",
    "    cluster_df = spike_data[(spike_data.cluster_id == cluster_id)] # dataframe for that cluster\n",
    "\n",
    "    spikes_on_track = plt.figure()\n",
    "    spikes_on_track.set_size_inches(5, 5, forward=True)\n",
    "    ax = spikes_on_track.add_subplot(1, 1, 1)  # specify (nrows, ncols, axnum)\n",
    "\n",
    "    ax.plot(position_data['position_x'], position_data['position_y'], color='black', linewidth=2, zorder=1, alpha=0.7)\n",
    "    ax.scatter(cluster_df['position_x'].iloc[0], cluster_df['position_y'].iloc[0], color='red', marker='o', s=10, zorder=2, alpha=0.3)\n",
    "    ax.spines['top'].set_visible(False)\n",
    "    ax.spines['right'].set_visible(False)\n",
    "    ax.spines['left'].set_visible(False)\n",
    "    ax.spines['bottom'].set_visible(False)\n",
    "    plt.tick_params(\n",
    "        axis='both',          # changes apply to the x-axis\n",
    "        which='both',      # both major and minor ticks are affected\n",
    "        bottom=False,      # ticks along the bottom edge are off\n",
    "        top=False,         # ticks along the top edge are off\n",
    "        right=False,\n",
    "        left=False,\n",
    "        labelleft=False,\n",
    "        labelbottom=False)  # labels along the bottom edge are off\n",
    "    plt.show()"
   ]
  }
 ],
 "metadata": {
  "kernelspec": {
   "display_name": "elrond",
   "language": "python",
   "name": "python3"
  },
  "language_info": {
   "codemirror_mode": {
    "name": "ipython",
    "version": 3
   },
   "file_extension": ".py",
   "mimetype": "text/x-python",
   "name": "python",
   "nbconvert_exporter": "python",
   "pygments_lexer": "ipython3",
   "version": "3.11.10"
  }
 },
 "nbformat": 4,
 "nbformat_minor": 2
}
