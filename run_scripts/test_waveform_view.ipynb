{
 "cells": [
  {
   "cell_type": "code",
   "execution_count": 1,
   "metadata": {},
   "outputs": [],
   "source": [
    "import os\n",
    "import spikeinterface.full as si\n",
    "from spikeinterface.curation import get_potential_auto_merge\n",
    "from P1_SpikeSort.preprocess import preprocess\n",
    "from P1_SpikeSort.spikesort import make_recording_from_paths_and_get_times\n",
    "import numpy as np\n",
    "%matplotlib widget"
   ]
  },
  {
   "cell_type": "code",
   "execution_count": 2,
   "metadata": {},
   "outputs": [
    {
     "data": {
      "text/plain": [
       "['/mnt/datastore/Harry/Cohort11_april2024/of/M21_D16_2024-05-16_15-30-33_OF2',\n",
       " '/mnt/datastore/Harry/Cohort11_april2024/of/M21_D16_2024-05-16_14-03-05_OF1',\n",
       " '/mnt/datastore/Harry/Cohort11_april2024/vr/M21_D16_2024-05-16_14-40-02_VR1']"
      ]
     },
     "execution_count": 2,
     "metadata": {},
     "output_type": "execute_result"
    }
   ],
   "source": [
    "mouse = 21\n",
    "day = 16\n",
    "mouse_day = \"M\"+str(mouse)+\"_D\"+str(day)\n",
    "project_path = \"/mnt/datastore/Harry/Cohort11_april2024/\"\n",
    "recording_paths = []\n",
    "recording_paths.extend([f.path for f in os.scandir(project_path+\"vr\") if f.is_dir()])\n",
    "recording_paths.extend([f.path for f in os.scandir(project_path+\"of\") if f.is_dir()])\n",
    "recording_paths.extend([f.path for f in os.scandir(project_path+\"allen_brain_observatory_visual_coding\") if f.is_dir()])\n",
    "recording_paths = [s for s in recording_paths if mouse_day in s]\n",
    "ephys_path = project_path + \"derivatives/M\"+str(mouse)+\"/D\"+str(day)+\"/ephys/\"\n",
    "\n",
    "recording_paths = [recording_paths[1], recording_paths[2], recording_paths[0]]\n",
    "recording_paths\n"
   ]
  },
  {
   "cell_type": "code",
   "execution_count": 3,
   "metadata": {},
   "outputs": [],
   "source": [
    "sorting_analyzer = si.load_sorting_analyzer('/mnt/datastore/Harry/Cohort11_april2024/derivatives/M21/D16/ephys/sorting_analyzer')"
   ]
  },
  {
   "cell_type": "code",
   "execution_count": 4,
   "metadata": {},
   "outputs": [],
   "source": [
    "recording_mono, rec_samples = make_recording_from_paths_and_get_times(recording_paths)"
   ]
  },
  {
   "cell_type": "code",
   "execution_count": 5,
   "metadata": {},
   "outputs": [],
   "source": [
    "recording_mono = preprocess(recording_mono)"
   ]
  },
  {
   "cell_type": "code",
   "execution_count": 6,
   "metadata": {},
   "outputs": [],
   "source": [
    "sorting_analyzer._recording = recording_mono"
   ]
  },
  {
   "cell_type": "code",
   "execution_count": 7,
   "metadata": {},
   "outputs": [
    {
     "data": {
      "text/plain": [
       "['noise_levels',\n",
       " 'template_similarity',\n",
       " 'principal_components',\n",
       " 'templates',\n",
       " 'spike_amplitudes',\n",
       " 'correlograms',\n",
       " 'quality_metrics',\n",
       " 'waveforms',\n",
       " 'spike_locations',\n",
       " 'template_metrics',\n",
       " 'random_spikes']"
      ]
     },
     "execution_count": 7,
     "metadata": {},
     "output_type": "execute_result"
    }
   ],
   "source": [
    "sorting_analyzer.get_saved_extension_names()"
   ]
  },
  {
   "cell_type": "code",
   "execution_count": 11,
   "metadata": {},
   "outputs": [
    {
     "name": "stdout",
     "output_type": "stream",
     "text": [
      "Deleting templates\n",
      "Deleting template_metrics\n",
      "Deleting template_similarity\n",
      "Deleting spike_amplitudes\n",
      "Deleting spike_locations\n",
      "Deleting quality_metrics\n",
      "Deleting principal_components\n"
     ]
    },
    {
     "data": {
      "application/vnd.jupyter.widget-view+json": {
       "model_id": "60fd7f25144f4ac38d636ab030480133",
       "version_major": 2,
       "version_minor": 0
      },
      "text/plain": [
       "compute_waveforms:   0%|          | 0/4240 [00:00<?, ?it/s]"
      ]
     },
     "metadata": {},
     "output_type": "display_data"
    },
    {
     "data": {
      "text/plain": [
       "<spikeinterface.core.analyzer_extension_core.ComputeWaveforms at 0x7f3d02f58c10>"
      ]
     },
     "execution_count": 11,
     "metadata": {},
     "output_type": "execute_result"
    }
   ],
   "source": [
    "sorting_analyzer.compute(\"waveforms\")"
   ]
  },
  {
   "cell_type": "code",
   "execution_count": 12,
   "metadata": {},
   "outputs": [
    {
     "data": {
      "text/plain": [
       "<spikeinterface.core.analyzer_extension_core.ComputeTemplates at 0x7f3d02d53790>"
      ]
     },
     "execution_count": 12,
     "metadata": {},
     "output_type": "execute_result"
    }
   ],
   "source": [
    "sorting_analyzer.compute(\"templates\") "
   ]
  },
  {
   "cell_type": "code",
   "execution_count": 13,
   "metadata": {},
   "outputs": [
    {
     "data": {
      "application/vnd.jupyter.widget-view+json": {
       "model_id": "12474aa726e94a799f1727de7e6ef6f7",
       "version_major": 2,
       "version_minor": 0
      },
      "text/plain": [
       "AppLayout(children=(HBox(children=(Checkbox(value=False, description='same axis'), Checkbox(value=True, descri…"
      ]
     },
     "metadata": {},
     "output_type": "display_data"
    },
    {
     "data": {
      "text/plain": [
       "<spikeinterface.widgets.unit_waveforms.UnitWaveformsWidget at 0x7f3d02d587f0>"
      ]
     },
     "execution_count": 13,
     "metadata": {},
     "output_type": "execute_result"
    }
   ],
   "source": [
    "si.plot_unit_waveforms(sorting_analyzer, backend=\"ipywidgets\")"
   ]
  }
 ],
 "metadata": {
  "kernelspec": {
   "display_name": "si",
   "language": "python",
   "name": "python3"
  },
  "language_info": {
   "codemirror_mode": {
    "name": "ipython",
    "version": 3
   },
   "file_extension": ".py",
   "mimetype": "text/x-python",
   "name": "python",
   "nbconvert_exporter": "python",
   "pygments_lexer": "ipython3",
   "version": "3.10.14"
  }
 },
 "nbformat": 4,
 "nbformat_minor": 2
}
