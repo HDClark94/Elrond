{
 "cells": [
  {
   "cell_type": "code",
   "execution_count": null,
   "metadata": {},
   "outputs": [],
   "source": [
    "# This file makes a basic attempt to make a simplified version of the lomb-scargle approximation of periodicity\n",
    "# as in Clark and Nolan 2024\n",
    "import pandas as pd\n",
    "import numpy as np\n",
    "import time\n",
    "import matplotlib.pyplot as plt\n",
    "from scipy import stats\n",
    "from scipy import signal\n",
    "from astropy.timeseries import LombScargle\n",
    "from astropy.convolution import convolve, Gaussian1DKernel\n",
    "from astropy.nddata import block_reduce\n",
    "from P2_PostProcess.VirtualReality.plotting import plot_firing_rate_maps_per_trial_2\n",
    "# Periodgram settings\n",
    "frequency_step = 0.02\n",
    "max_frequency = 10\n",
    "frequency = np.arange(0.1, max_frequency+frequency_step, frequency_step) # spatial freqs to test for\n",
    "window_length_in_laps = 3 # n trials (laps)\n",
    "power_estimate_step = 5 # cm\n",
    "track_length = 200\n",
    "sliding_window_size=track_length*window_length_in_laps # cm"
   ]
  },
  {
   "cell_type": "code",
   "execution_count": null,
   "metadata": {},
   "outputs": [],
   "source": [
    "\n",
    "def distance_from_integer(frequencies):\n",
    "    distance_from_zero = np.asarray(frequencies)%1\n",
    "    distance_from_one = 1-(np.asarray(frequencies)%1)\n",
    "    tmp = np.vstack((distance_from_zero, distance_from_one))\n",
    "    return np.min(tmp, axis=0)\n",
    "\n",
    "def plot_variables(cluster_spike_data, processed_position_data, \n",
    "                   centre_distances, dist_from_spatial_freq_int, max_power_freqs):\n",
    "    cluster_id = cluster_spike_data[\"cluster_id\"].iloc[0]\n",
    "    fig, ax = plt.subplots(1, 4, figsize=(15, 5))\n",
    "    plot_firing_rate_maps_per_trial_2(cluster_spike_data, processed_position_data, track_length, ax=ax[0])\n",
    "\n",
    "    ax[1].scatter(centre_distances, dist_from_spatial_freq_int, color='blue')\n",
    "    ax[1].set_xlabel('Centre Distances (cm)')\n",
    "    ax[1].set_ylabel('Dist From Spatial Freq Int (Spat. Hz)')\n",
    "    ax[1].set_ylim([0,0.5])\n",
    "    ax[2].scatter(centre_distances, max_power_freqs, color='green')\n",
    "    ax[2].set_xlabel('Centre Distances  (cm)')\n",
    "    ax[2].set_ylabel('Max Power Freqs (Spat. Hz)')\n",
    "    ax[2].set_ylim([0,10])\n",
    "    ax[3].scatter(max_power_freqs, dist_from_spatial_freq_int, color='red')\n",
    "    ax[3].set_xlabel('Max Power Freqs (Spat. Hz)')\n",
    "    ax[3].set_xlim([0,10])\n",
    "    ax[3].set_ylabel('Dist From Spatial Freq Int (Spat. Hz)')\n",
    "    ax[3].set_ylim([0,0.5])\n",
    "    fig.suptitle(f'cluster {cluster_id}', fontsize=10)\n",
    "    plt.tight_layout(rect=[0, 0, 1, 0.95])\n",
    "    plt.show()\n",
    "\n",
    "def lomb_scargle(spike_data, processed_position_data):\n",
    "    n_trials = len(processed_position_data)\n",
    "    elapsed_distance_bins = np.arange(0, (track_length*n_trials)+1, 1)\n",
    "    elapsed_distance = 0.5*(elapsed_distance_bins[1:]+elapsed_distance_bins[:-1])/track_length\n",
    "\n",
    "    all_centre_distances = []\n",
    "    all_freqs = []\n",
    "    all_deltas = []\n",
    "    for cluster_index, cluster_id in enumerate(spike_data.cluster_id):\n",
    "        cluster_spike_data = spike_data[spike_data[\"cluster_id\"] == cluster_id]\n",
    "        firing_rates = np.array(cluster_spike_data[\"fr_binned_in_space_smoothed\"].iloc[0])\n",
    "        bin_centres = np.array(cluster_spike_data[\"fr_binned_in_space_bin_centres\"].iloc[0])\n",
    "        firing_times_cluster = np.array(cluster_spike_data[\"firing_times\"].iloc[0])\n",
    "\n",
    "        time_then = time.time()\n",
    "        if len(firing_times_cluster)>1:\n",
    "            fr = firing_rates.flatten()\n",
    "\n",
    "            powers = []\n",
    "            centre_distances = []\n",
    "            indices_to_test = np.arange(0, len(fr)-sliding_window_size, 1, dtype=np.int64)[::power_estimate_step]\n",
    "            for m in indices_to_test:\n",
    "                ls = LombScargle(elapsed_distance[m:m+sliding_window_size], fr[m:m+sliding_window_size])\n",
    "                power = ls.power(frequency)\n",
    "                powers.append(power.tolist())\n",
    "                centre_distances.append(np.nanmean(elapsed_distance[m:m+sliding_window_size]))\n",
    "            powers = np.array(powers)\n",
    "            centre_distances = np.array(centre_distances)\n",
    "            centre_trials = np.round(np.array(centre_distances)).astype(np.int64)\n",
    "\n",
    "            powers[np.isnan(powers)] = 0\n",
    "            max_power_freqs = []\n",
    "            for i in range(len(powers)):\n",
    "                a = frequency[np.nanargmax(powers[i])]\n",
    "                max_power_freqs.append(a)\n",
    "            max_power_freqs = np.array(max_power_freqs)\n",
    "            dist_from_spatial_freq_int = distance_from_integer(max_power_freqs)\n",
    "            all_centre_distances.append(centre_distances)\n",
    "            all_freqs.append(max_power_freqs)\n",
    "            all_deltas.append(dist_from_spatial_freq_int)\n",
    "\n",
    "            plot_variables(cluster_spike_data, processed_position_data, \n",
    "                           centre_distances, dist_from_spatial_freq_int, max_power_freqs)\n",
    "        else:\n",
    "            all_centre_distances.append([])\n",
    "            all_freqs.append([])\n",
    "            all_deltas.append([])\n",
    "\n",
    "        time_taken = time_then-time.time()\n",
    "        print(f'time for cluster {cluster_id} is {time.time()-time_then}, seconds')\n",
    "\n",
    "    spike_data[\"ls_centre_distances\"] = all_centre_distances\n",
    "    spike_data[\"ls_freqs\"] = all_freqs\n",
    "    spike_data[\"ls_deltas\"] = all_deltas\n",
    "    return spike_data\n"
   ]
  },
  {
   "cell_type": "markdown",
   "metadata": {},
   "source": []
  },
  {
   "cell_type": "markdown",
   "metadata": {},
   "source": [
    "##### load the firing and position dataframes"
   ]
  },
  {
   "cell_type": "code",
   "execution_count": null,
   "metadata": {},
   "outputs": [],
   "source": [
    "spike_data = pd.read_pickle(\"/mnt/datastore/Harry/Cohort11_april2024/derivatives/M21/D26/vr/M21_D26_2024-05-28_17-04-41_VR1/processed/kilosort4/spikes.pkl\")\n",
    "position_data = pd.read_csv(\"/mnt/datastore/Harry/Cohort11_april2024/derivatives/M21/D26/vr/M21_D26_2024-05-28_17-04-41_VR1/processed/position_data.csv\")\n",
    "processed_position_data = pd.read_pickle(\"/mnt/datastore/Harry/Cohort11_april2024/derivatives/M21/D26/vr/M21_D26_2024-05-28_17-04-41_VR1/processed/processed_position_data.pkl\")\n"
   ]
  },
  {
   "cell_type": "code",
   "execution_count": 4,
   "metadata": {},
   "outputs": [
    {
     "ename": "KeyboardInterrupt",
     "evalue": "",
     "output_type": "error",
     "traceback": [
      "\u001b[0;31m---------------------------------------------------------------------------\u001b[0m",
      "\u001b[0;31mKeyboardInterrupt\u001b[0m                         Traceback (most recent call last)",
      "Cell \u001b[0;32mIn[4], line 1\u001b[0m\n\u001b[0;32m----> 1\u001b[0m spike_data \u001b[38;5;241m=\u001b[39m \u001b[43mlomb_scargle\u001b[49m\u001b[43m(\u001b[49m\u001b[43mspike_data\u001b[49m\u001b[43m,\u001b[49m\u001b[43m \u001b[49m\u001b[43mprocessed_position_data\u001b[49m\u001b[43m)\u001b[49m\n",
      "Cell \u001b[0;32mIn[2], line 53\u001b[0m, in \u001b[0;36mlomb_scargle\u001b[0;34m(spike_data, processed_position_data)\u001b[0m\n\u001b[1;32m     51\u001b[0m \u001b[38;5;28;01mfor\u001b[39;00m m \u001b[38;5;129;01min\u001b[39;00m indices_to_test:\n\u001b[1;32m     52\u001b[0m     ls \u001b[38;5;241m=\u001b[39m LombScargle(elapsed_distance[m:m\u001b[38;5;241m+\u001b[39msliding_window_size], fr[m:m\u001b[38;5;241m+\u001b[39msliding_window_size])\n\u001b[0;32m---> 53\u001b[0m     power \u001b[38;5;241m=\u001b[39m \u001b[43mls\u001b[49m\u001b[38;5;241;43m.\u001b[39;49m\u001b[43mpower\u001b[49m\u001b[43m(\u001b[49m\u001b[43mfrequency\u001b[49m\u001b[43m)\u001b[49m\n\u001b[1;32m     54\u001b[0m     powers\u001b[38;5;241m.\u001b[39mappend(power\u001b[38;5;241m.\u001b[39mtolist())\n\u001b[1;32m     55\u001b[0m     centre_distances\u001b[38;5;241m.\u001b[39mappend(np\u001b[38;5;241m.\u001b[39mnanmean(elapsed_distance[m:m\u001b[38;5;241m+\u001b[39msliding_window_size]))\n",
      "File \u001b[0;32m~/miniconda3/envs/si/lib/python3.10/site-packages/astropy/timeseries/periodograms/lombscargle/core.py:381\u001b[0m, in \u001b[0;36mLombScargle.power\u001b[0;34m(self, frequency, normalization, method, assume_regular_frequency, method_kwds)\u001b[0m\n\u001b[1;32m    379\u001b[0m     normalization \u001b[38;5;241m=\u001b[39m \u001b[38;5;28mself\u001b[39m\u001b[38;5;241m.\u001b[39mnormalization\n\u001b[1;32m    380\u001b[0m frequency \u001b[38;5;241m=\u001b[39m \u001b[38;5;28mself\u001b[39m\u001b[38;5;241m.\u001b[39m_validate_frequency(frequency)\n\u001b[0;32m--> 381\u001b[0m power \u001b[38;5;241m=\u001b[39m \u001b[43mlombscargle\u001b[49m\u001b[43m(\u001b[49m\n\u001b[1;32m    382\u001b[0m \u001b[43m    \u001b[49m\u001b[38;5;241;43m*\u001b[39;49m\u001b[43mstrip_units\u001b[49m\u001b[43m(\u001b[49m\u001b[38;5;28;43mself\u001b[39;49m\u001b[38;5;241;43m.\u001b[39;49m\u001b[43m_trel\u001b[49m\u001b[43m,\u001b[49m\u001b[43m \u001b[49m\u001b[38;5;28;43mself\u001b[39;49m\u001b[38;5;241;43m.\u001b[39;49m\u001b[43my\u001b[49m\u001b[43m,\u001b[49m\u001b[43m \u001b[49m\u001b[38;5;28;43mself\u001b[39;49m\u001b[38;5;241;43m.\u001b[39;49m\u001b[43mdy\u001b[49m\u001b[43m)\u001b[49m\u001b[43m,\u001b[49m\n\u001b[1;32m    383\u001b[0m \u001b[43m    \u001b[49m\u001b[43mfrequency\u001b[49m\u001b[38;5;241;43m=\u001b[39;49m\u001b[43mstrip_units\u001b[49m\u001b[43m(\u001b[49m\u001b[43mfrequency\u001b[49m\u001b[43m)\u001b[49m\u001b[43m,\u001b[49m\n\u001b[1;32m    384\u001b[0m \u001b[43m    \u001b[49m\u001b[43mcenter_data\u001b[49m\u001b[38;5;241;43m=\u001b[39;49m\u001b[38;5;28;43mself\u001b[39;49m\u001b[38;5;241;43m.\u001b[39;49m\u001b[43mcenter_data\u001b[49m\u001b[43m,\u001b[49m\n\u001b[1;32m    385\u001b[0m \u001b[43m    \u001b[49m\u001b[43mfit_mean\u001b[49m\u001b[38;5;241;43m=\u001b[39;49m\u001b[38;5;28;43mself\u001b[39;49m\u001b[38;5;241;43m.\u001b[39;49m\u001b[43mfit_mean\u001b[49m\u001b[43m,\u001b[49m\n\u001b[1;32m    386\u001b[0m \u001b[43m    \u001b[49m\u001b[43mnterms\u001b[49m\u001b[38;5;241;43m=\u001b[39;49m\u001b[38;5;28;43mself\u001b[39;49m\u001b[38;5;241;43m.\u001b[39;49m\u001b[43mnterms\u001b[49m\u001b[43m,\u001b[49m\n\u001b[1;32m    387\u001b[0m \u001b[43m    \u001b[49m\u001b[43mnormalization\u001b[49m\u001b[38;5;241;43m=\u001b[39;49m\u001b[43mnormalization\u001b[49m\u001b[43m,\u001b[49m\n\u001b[1;32m    388\u001b[0m \u001b[43m    \u001b[49m\u001b[43mmethod\u001b[49m\u001b[38;5;241;43m=\u001b[39;49m\u001b[43mmethod\u001b[49m\u001b[43m,\u001b[49m\n\u001b[1;32m    389\u001b[0m \u001b[43m    \u001b[49m\u001b[43mmethod_kwds\u001b[49m\u001b[38;5;241;43m=\u001b[39;49m\u001b[43mmethod_kwds\u001b[49m\u001b[43m,\u001b[49m\n\u001b[1;32m    390\u001b[0m \u001b[43m    \u001b[49m\u001b[43massume_regular_frequency\u001b[49m\u001b[38;5;241;43m=\u001b[39;49m\u001b[43massume_regular_frequency\u001b[49m\u001b[43m,\u001b[49m\n\u001b[1;32m    391\u001b[0m \u001b[43m\u001b[49m\u001b[43m)\u001b[49m\n\u001b[1;32m    392\u001b[0m \u001b[38;5;28;01mreturn\u001b[39;00m power \u001b[38;5;241m*\u001b[39m \u001b[38;5;28mself\u001b[39m\u001b[38;5;241m.\u001b[39m_power_unit(normalization)\n",
      "File \u001b[0;32m~/miniconda3/envs/si/lib/python3.10/site-packages/astropy/timeseries/periodograms/lombscargle/implementations/main.py:230\u001b[0m, in \u001b[0;36mlombscargle\u001b[0;34m(t, y, dy, frequency, method, assume_regular_frequency, normalization, fit_mean, center_data, method_kwds, nterms)\u001b[0m\n\u001b[1;32m    225\u001b[0m     \u001b[38;5;28;01mif\u001b[39;00m kwds\u001b[38;5;241m.\u001b[39mpop(\u001b[38;5;124m\"\u001b[39m\u001b[38;5;124mnterms\u001b[39m\u001b[38;5;124m\"\u001b[39m) \u001b[38;5;241m!=\u001b[39m \u001b[38;5;241m1\u001b[39m:\n\u001b[1;32m    226\u001b[0m         \u001b[38;5;28;01mraise\u001b[39;00m \u001b[38;5;167;01mValueError\u001b[39;00m(\n\u001b[1;32m    227\u001b[0m             \u001b[38;5;124m\"\u001b[39m\u001b[38;5;124mnterms != 1 only supported with \u001b[39m\u001b[38;5;124m'\u001b[39m\u001b[38;5;124mchi2\u001b[39m\u001b[38;5;124m'\u001b[39m\u001b[38;5;124m or \u001b[39m\u001b[38;5;124m'\u001b[39m\u001b[38;5;124mfastchi2\u001b[39m\u001b[38;5;124m'\u001b[39m\u001b[38;5;124m methods\u001b[39m\u001b[38;5;124m\"\u001b[39m\n\u001b[1;32m    228\u001b[0m         )\n\u001b[0;32m--> 230\u001b[0m PLS \u001b[38;5;241m=\u001b[39m \u001b[43mMETHODS\u001b[49m\u001b[43m[\u001b[49m\u001b[43mmethod\u001b[49m\u001b[43m]\u001b[49m\u001b[43m(\u001b[49m\u001b[38;5;241;43m*\u001b[39;49m\u001b[43margs\u001b[49m\u001b[43m,\u001b[49m\u001b[43m \u001b[49m\u001b[38;5;241;43m*\u001b[39;49m\u001b[38;5;241;43m*\u001b[39;49m\u001b[43mkwds\u001b[49m\u001b[43m)\u001b[49m\n\u001b[1;32m    231\u001b[0m \u001b[38;5;28;01mreturn\u001b[39;00m PLS\u001b[38;5;241m.\u001b[39mreshape(output_shape)\n",
      "File \u001b[0;32m~/miniconda3/envs/si/lib/python3.10/site-packages/astropy/timeseries/periodograms/lombscargle/implementations/fast_impl.py:98\u001b[0m, in \u001b[0;36mlombscargle_fast\u001b[0;34m(t, y, dy, f0, df, Nf, center_data, fit_mean, normalization, use_fft, trig_sum_kwds)\u001b[0m\n\u001b[1;32m     95\u001b[0m \u001b[38;5;66;03m# ----------------------------------------------------------------------\u001b[39;00m\n\u001b[1;32m     96\u001b[0m \u001b[38;5;66;03m# 1. compute functions of the time-shift tau at each frequency\u001b[39;00m\n\u001b[1;32m     97\u001b[0m Sh, Ch \u001b[38;5;241m=\u001b[39m trig_sum(t, w \u001b[38;5;241m*\u001b[39m y, \u001b[38;5;241m*\u001b[39m\u001b[38;5;241m*\u001b[39mkwargs)\n\u001b[0;32m---> 98\u001b[0m S2, C2 \u001b[38;5;241m=\u001b[39m \u001b[43mtrig_sum\u001b[49m\u001b[43m(\u001b[49m\u001b[43mt\u001b[49m\u001b[43m,\u001b[49m\u001b[43m \u001b[49m\u001b[43mw\u001b[49m\u001b[43m,\u001b[49m\u001b[43m \u001b[49m\u001b[43mfreq_factor\u001b[49m\u001b[38;5;241;43m=\u001b[39;49m\u001b[38;5;241;43m2\u001b[39;49m\u001b[43m,\u001b[49m\u001b[43m \u001b[49m\u001b[38;5;241;43m*\u001b[39;49m\u001b[38;5;241;43m*\u001b[39;49m\u001b[43mkwargs\u001b[49m\u001b[43m)\u001b[49m\n\u001b[1;32m    100\u001b[0m \u001b[38;5;28;01mif\u001b[39;00m fit_mean:\n\u001b[1;32m    101\u001b[0m     S, C \u001b[38;5;241m=\u001b[39m trig_sum(t, w, \u001b[38;5;241m*\u001b[39m\u001b[38;5;241m*\u001b[39mkwargs)\n",
      "File \u001b[0;32m~/miniconda3/envs/si/lib/python3.10/site-packages/astropy/timeseries/periodograms/lombscargle/implementations/utils.py:145\u001b[0m, in \u001b[0;36mtrig_sum\u001b[0;34m(t, h, df, N, f0, freq_factor, oversampling, use_fft, Mfft)\u001b[0m\n\u001b[1;32m    142\u001b[0m     h \u001b[38;5;241m=\u001b[39m h \u001b[38;5;241m*\u001b[39m np\u001b[38;5;241m.\u001b[39mexp(\u001b[38;5;241m2\u001b[39mj \u001b[38;5;241m*\u001b[39m np\u001b[38;5;241m.\u001b[39mpi \u001b[38;5;241m*\u001b[39m f0 \u001b[38;5;241m*\u001b[39m (t \u001b[38;5;241m-\u001b[39m t0))\n\u001b[1;32m    144\u001b[0m tnorm \u001b[38;5;241m=\u001b[39m ((t \u001b[38;5;241m-\u001b[39m t0) \u001b[38;5;241m*\u001b[39m Nfft \u001b[38;5;241m*\u001b[39m df) \u001b[38;5;241m%\u001b[39m Nfft\n\u001b[0;32m--> 145\u001b[0m grid \u001b[38;5;241m=\u001b[39m \u001b[43mextirpolate\u001b[49m\u001b[43m(\u001b[49m\u001b[43mtnorm\u001b[49m\u001b[43m,\u001b[49m\u001b[43m \u001b[49m\u001b[43mh\u001b[49m\u001b[43m,\u001b[49m\u001b[43m \u001b[49m\u001b[43mNfft\u001b[49m\u001b[43m,\u001b[49m\u001b[43m \u001b[49m\u001b[43mMfft\u001b[49m\u001b[43m)\u001b[49m\n\u001b[1;32m    147\u001b[0m fftgrid \u001b[38;5;241m=\u001b[39m np\u001b[38;5;241m.\u001b[39mfft\u001b[38;5;241m.\u001b[39mifft(grid)[:N]\n\u001b[1;32m    148\u001b[0m \u001b[38;5;28;01mif\u001b[39;00m t0 \u001b[38;5;241m!=\u001b[39m \u001b[38;5;241m0\u001b[39m:\n",
      "File \u001b[0;32m~/miniconda3/envs/si/lib/python3.10/site-packages/astropy/timeseries/periodograms/lombscargle/implementations/utils.py:64\u001b[0m, in \u001b[0;36mextirpolate\u001b[0;34m(x, y, N, M)\u001b[0m\n\u001b[1;32m     62\u001b[0m \u001b[38;5;66;03m# first take care of the easy cases where x is an integer\u001b[39;00m\n\u001b[1;32m     63\u001b[0m integers \u001b[38;5;241m=\u001b[39m x \u001b[38;5;241m%\u001b[39m \u001b[38;5;241m1\u001b[39m \u001b[38;5;241m==\u001b[39m \u001b[38;5;241m0\u001b[39m\n\u001b[0;32m---> 64\u001b[0m np\u001b[38;5;241m.\u001b[39madd\u001b[38;5;241m.\u001b[39mat(result, \u001b[43mx\u001b[49m\u001b[43m[\u001b[49m\u001b[43mintegers\u001b[49m\u001b[43m]\u001b[49m\u001b[38;5;241;43m.\u001b[39;49m\u001b[43mastype\u001b[49m\u001b[43m(\u001b[49m\u001b[38;5;28;43mint\u001b[39;49m\u001b[43m)\u001b[49m, y[integers])\n\u001b[1;32m     65\u001b[0m x, y \u001b[38;5;241m=\u001b[39m x[\u001b[38;5;241m~\u001b[39mintegers], y[\u001b[38;5;241m~\u001b[39mintegers]\n\u001b[1;32m     67\u001b[0m \u001b[38;5;66;03m# For each remaining x, find the index describing the extirpolation range.\u001b[39;00m\n\u001b[1;32m     68\u001b[0m \u001b[38;5;66;03m# i.e. ilo[i] < x[i] < ilo[i] + M with x[i] in the center,\u001b[39;00m\n\u001b[1;32m     69\u001b[0m \u001b[38;5;66;03m# adjusted so that the limits are within the range 0...N\u001b[39;00m\n",
      "\u001b[0;31mKeyboardInterrupt\u001b[0m: "
     ]
    }
   ],
   "source": [
    "spike_data = lomb_scargle(spike_data, processed_position_data)"
   ]
  }
 ],
 "metadata": {
  "kernelspec": {
   "display_name": "si",
   "language": "python",
   "name": "python3"
  },
  "language_info": {
   "codemirror_mode": {
    "name": "ipython",
    "version": 3
   },
   "file_extension": ".py",
   "mimetype": "text/x-python",
   "name": "python",
   "nbconvert_exporter": "python",
   "pygments_lexer": "ipython3",
   "version": "3.10.14"
  }
 },
 "nbformat": 4,
 "nbformat_minor": 2
}
