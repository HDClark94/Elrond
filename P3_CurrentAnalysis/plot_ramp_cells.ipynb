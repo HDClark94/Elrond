{
 "cells": [
  {
   "cell_type": "code",
   "execution_count": 12,
   "metadata": {},
   "outputs": [],
   "source": [
    "import spikeinterface.full as si\n",
    "from probeinterface.plotting import plot_probe, plot_probegroup\n",
    "import numpy as np\n",
    "import pandas as pd\n",
    "import matplotlib.pyplot as plt\n",
    "from mpl_toolkits.mplot3d import Axes3D\n",
    "from matplotlib import gridspec\n",
    "from scipy import stats\n",
    "import os\n",
    "from Helpers import plot_utility\n",
    "from astropy.nddata import block_reduce\n",
    "import matplotlib.ticker as ticker"
   ]
  },
  {
   "cell_type": "code",
   "execution_count": 13,
   "metadata": {},
   "outputs": [],
   "source": [
    "\n",
    "def plot_firing_rate_maps_per_trial_2(cluster_spike_data, track_length, save_path=None, ax=None):\n",
    "    firing_times_cluster = cluster_spike_data[\"firing_times_vr\"].iloc[0]\n",
    "    if len(firing_times_cluster)>1:\n",
    "        cluster_firing_maps = np.array(cluster_spike_data['fr_binned_in_space_smoothed'].iloc[0])\n",
    "        cluster_firing_maps[np.isnan(cluster_firing_maps)] = 0\n",
    "        cluster_firing_maps[np.isinf(cluster_firing_maps)] = 0\n",
    "        percentile_99th_display = np.nanpercentile(cluster_firing_maps, 95)\n",
    "        cluster_firing_maps = min_max_normalize(cluster_firing_maps)\n",
    "        percentile_99th = np.nanpercentile(cluster_firing_maps, 95)\n",
    "        cluster_firing_maps = np.clip(cluster_firing_maps, a_min=0, a_max=percentile_99th)\n",
    "        vmin, vmax = get_vmin_vmax(cluster_firing_maps)\n",
    "\n",
    "        locations = np.arange(0, len(cluster_firing_maps[0]))\n",
    "        ordered = np.arange(0, len(cluster_firing_maps), 1)\n",
    "        X, Y = np.meshgrid(locations, ordered)\n",
    "        if ax is None:\n",
    "            fig = plt.figure()\n",
    "            fig.set_size_inches(5, 5, forward=True)\n",
    "            ax = fig.add_subplot(1, 1, 1)\n",
    "\n",
    "        ax.pcolormesh(X, Y, cluster_firing_maps, shading=\"auto\", vmin=vmin, vmax=vmax)\n",
    "        ax.set_title(str(np.round(percentile_99th_display, decimals=1))+\" Hz\", fontsize=20)\n",
    "        ax.set_ylabel('Trial Number', fontsize=20, labelpad = 20)\n",
    "        ax.set_xlabel('Location (cm)', fontsize=20, labelpad = 20)\n",
    "        ax.set_xlim([0, track_length])\n",
    "        ax.set_ylim([0, len(cluster_firing_maps)-1])\n",
    "        ax.tick_params(axis='both', which='both', labelsize=20)\n",
    "        ax.spines['top'].set_visible(False)\n",
    "        ax.spines['right'].set_visible(False)\n",
    "        tick_spacing = 100\n",
    "        ax.xaxis.set_major_locator(ticker.MultipleLocator(tick_spacing))\n",
    "        ax.yaxis.set_ticks_position('left')\n",
    "        ax.xaxis.set_ticks_position('bottom')\n",
    "        #cbar = spikes_on_track.colorbar(c, ax=ax, fraction=0.046, pad=0.04)\n",
    "        #cbar.set_label('Firing Rate (Hz)', rotation=270, fontsize=20)\n",
    "        #cbar.set_ticks([0,np.max(cluster_firing_maps)])\n",
    "        #cbar.set_ticklabels([\"0\", \"Max\"])\n",
    "        #cbar.ax.tick_params(labelsize=20)\n",
    "        plt.subplots_adjust(hspace = .35, wspace = .35,  bottom = 0.2, left = 0.3, right = 0.87, top = 0.92)\n",
    "        if save_path is not None:\n",
    "            plt.savefig(save_path + '/firing_rate_map_trials_' + \n",
    "                        spike_data.session_id.iloc[cluster_index] + '_' + \n",
    "                        str(int(cluster_id)) + '.png', dpi=300) "
   ]
  },
  {
   "cell_type": "code",
   "execution_count": 14,
   "metadata": {},
   "outputs": [],
   "source": [
    "def plot_firing_rate_maps_short(cluster_data, track_length=200, ax=None, save_path=None):\n",
    "    firing_times_cluster = cluster_data[\"firing_times_vr\"].iloc[0]\n",
    "    cluster_id = cluster_data[\"cluster_id\"].iloc[0]\n",
    "\n",
    "    if len(firing_times_cluster)>1:\n",
    "        cluster_firing_maps = np.array(cluster_data['fr_binned_in_space_smoothed'].iloc[0])\n",
    "        cluster_firing_maps[np.isnan(cluster_firing_maps)] = np.nan\n",
    "        cluster_firing_maps[np.isinf(cluster_firing_maps)] = np.nan\n",
    "\n",
    "        if ax is None: \n",
    "            spikes_on_track = plt.figure()\n",
    "            spikes_on_track.set_size_inches(5, 5/3, forward=True)\n",
    "            ax = spikes_on_track.add_subplot(1, 1, 1)\n",
    "        \n",
    "        locations = np.arange(0, len(cluster_firing_maps[0]))\n",
    "        ax.fill_between(locations, np.nanmean(cluster_firing_maps, axis=0) - stats.sem(cluster_firing_maps, axis=0,nan_policy=\"omit\"),\n",
    "                                    np.nanmean(cluster_firing_maps, axis=0) + stats.sem(cluster_firing_maps, axis=0,nan_policy=\"omit\"), color=\"black\", alpha=0.2)\n",
    "        ax.plot(locations, np.nanmean(cluster_firing_maps, axis=0), color=\"black\", linewidth=1)\n",
    "        \n",
    "        #plt.ylabel('FR (Hz)', fontsize=25, labelpad = 10)\n",
    "        #plt.xlabel('Location (cm)', fontsize=25, labelpad = 10)\n",
    "        plt.xlim(0, track_length)\n",
    "        ax.tick_params(axis='both', which='both', labelsize=20)\n",
    "        ax.set_xlim([0, track_length])\n",
    "        max_fr = max(np.nanmean(cluster_firing_maps, axis=0)+stats.sem(cluster_firing_maps, axis=0))\n",
    "        max_fr = max_fr+(0.1*(max_fr))\n",
    "        #ax.set_ylim([0, max_fr])\n",
    "        ax.set_yticks([0, np.round(ax.get_ylim()[1], 1)])\n",
    "        ax.set_ylim(bottom=0)\n",
    "        plot_utility.style_track_plot(ax, track_length, alpha=0.15)\n",
    "        ax.spines['top'].set_visible(False)\n",
    "        ax.spines['right'].set_visible(False)\n",
    "        ax.xaxis.set_major_locator(ticker.MultipleLocator(100))\n",
    "        ax.yaxis.set_ticks_position('left')\n",
    "        ax.xaxis.set_ticks_position('bottom')\n",
    "        plt.subplots_adjust(hspace = .35, wspace = .35,  bottom = 0.2, left = 0.3, right = 0.87, top = 0.92)\n",
    "        if save_path is not None:\n",
    "            plt.savefig(save_path + '/avg_firing_rate_maps_short_' + cluster_data.session_id.iloc[0] + '_' + str(int(cluster_id)) + '.png', dpi=300)              "
   ]
  },
  {
   "cell_type": "code",
   "execution_count": 15,
   "metadata": {},
   "outputs": [],
   "source": [
    "def min_max_normalize(x):\n",
    "    \"\"\"\n",
    "        argument\n",
    "            - x: input image data in numpy array [32, 32, 3]\n",
    "        return\n",
    "            - normalized x\n",
    "    \"\"\"\n",
    "    min_val = np.min(x)\n",
    "    max_val = np.max(x)\n",
    "    x = (x-min_val) / (max_val-min_val)\n",
    "    return x"
   ]
  },
  {
   "cell_type": "code",
   "execution_count": 16,
   "metadata": {},
   "outputs": [],
   "source": [
    "\n",
    "def get_vmin_vmax(cluster_firing_maps, bin_cm=8):\n",
    "    cluster_firing_maps_reduced = []\n",
    "    for i in range(len(cluster_firing_maps)):\n",
    "        cluster_firing_maps_reduced.append(block_reduce(cluster_firing_maps[i], bin_cm, func=np.mean))\n",
    "    cluster_firing_maps_reduced = np.array(cluster_firing_maps_reduced)\n",
    "    vmin= 0\n",
    "    vmax= np.max(cluster_firing_maps_reduced)\n",
    "    return vmin, vmax "
   ]
  },
  {
   "cell_type": "code",
   "execution_count": 17,
   "metadata": {},
   "outputs": [],
   "source": [
    "def ramp_score(ramp_data_vr):\n",
    "    ramp_data_vr = ramp_data_vr.fillna('None') # replace None types with None strings for ease\n",
    "    df = pd.DataFrame()\n",
    "    for cluster_id in np.unique(ramp_data_vr[\"cluster_id\"]):\n",
    "\n",
    "        outbound = ramp_data_vr[(ramp_data_vr[\"cluster_id\"] == cluster_id) &\n",
    "                                (ramp_data_vr[\"trial_type\"] == \"None\") &\n",
    "                                (ramp_data_vr[\"hit_miss_try\"] == \"None\") &\n",
    "                                (ramp_data_vr[\"track_length\"] == \"outbound\")][\"ramp_class\"].iloc[0]\n",
    "        homebound = ramp_data_vr[(ramp_data_vr[\"cluster_id\"] == cluster_id) &\n",
    "                                 (ramp_data_vr[\"trial_type\"] == \"None\") &\n",
    "                                 (ramp_data_vr[\"hit_miss_try\"] == \"None\") &\n",
    "                                 (ramp_data_vr[\"track_length\"] == \"homebound\")][\"ramp_class\"].iloc[0]\n",
    "        ramp_class = outbound+homebound\n",
    "        cluster_df = pd.DataFrame({'cluster_id': [cluster_id],\n",
    "                                   'outbound_homebound_ramp_class': [ramp_class]})\n",
    "        df = pd.concat([df, cluster_df], ignore_index=True)\n",
    "    return df\n"
   ]
  },
  {
   "cell_type": "markdown",
   "metadata": {},
   "source": [
    "## M21 ramp cells"
   ]
  },
  {
   "cell_type": "code",
   "execution_count": 18,
   "metadata": {},
   "outputs": [
    {
     "name": "stdout",
     "output_type": "stream",
     "text": [
      "pre-curation M21: 1734\n",
      "post-curation M21: 1070\n"
     ]
    }
   ],
   "source": [
    "project_path = \"/mnt/datastore/Harry/Cohort11_april2024/derivatives/\"\n",
    "# get sorting analyzer and unit locations\n",
    "of_session_base_names = [\"M21_D26_2024-05-28_16-35-31_OF1\", \"M21_D23_2024-05-25_16-07-17_OF1\", \"M21_D25_2024-05-27_15-35-57_OF1\", \"M21_D24_2024-05-26_15-58-23_OF1\"]\n",
    "vr_session_base_names = [\"M21_D26_2024-05-28_17-04-41_VR1\", \"M21_D23_2024-05-25_16-54-12_VR1\", \"M21_D25_2024-05-27_16-00-30_VR1\", \"M21_D24_2024-05-26_16-35-19_VR1\"]\n",
    " \n",
    "M21_master_data = pd.DataFrame()\n",
    "for vr_name, of_name in zip(vr_session_base_names, of_session_base_names):\n",
    "    mouse = vr_name.split(\"_\")[0]\n",
    "    day = vr_name.split(\"_\")[1]\n",
    "    sorting_analyzer_path = f\"{project_path}{mouse}/{day}/ephys/sorting_analyzer\"\n",
    "    vr_path = f\"{project_path}{mouse}/{day}/vr/{vr_name}/processed/kilosort4/spikes.pkl\"\n",
    "    ramp_path = f\"{project_path}{mouse}/{day}/vr/{vr_name}/processed/kilosort4/ramp_classifications.pkl\"\n",
    "    of_path = f\"{project_path}{mouse}/{day}/of/{of_name}/processed/kilosort4/spikes.pkl\"\n",
    "\n",
    "    spike_data_vr = pd.read_pickle(vr_path); spike_data_vr[\"firing_times_vr\"] = spike_data_vr[\"firing_times\"]; spike_data_vr[\"session_id_vr\"] = vr_name\n",
    "    spike_data_of = pd.read_pickle(of_path); spike_data_of[\"firing_times_of\"] = spike_data_of[\"firing_times\"]; spike_data_of[\"session_id_of\"] = of_name\n",
    "    ramp_data_vr = pd.read_pickle(ramp_path)\n",
    "    ramp_data_vr = ramp_score(ramp_data_vr)\n",
    "    spike_data = pd.merge(spike_data_vr, spike_data_of, on=\"cluster_id\")\n",
    "    spike_data = pd.merge(spike_data, ramp_data_vr, on=\"cluster_id\")\n",
    "    M21_master_data = pd.concat([M21_master_data, spike_data])\n",
    "\n",
    "### curate\n",
    "print(f\"pre-curation M21: {len(M21_master_data)}\")\n",
    "M21_master_data = M21_master_data[(M21_master_data[\"snr_x\"] > 1) & (M21_master_data[\"mean_firing_rate_x\"] > 0.5) & (M21_master_data[\"rp_contamination_x\"] < 0.9)]\n",
    "print(f\"post-curation M21: {len(M21_master_data)}\")\n",
    "\n"
   ]
  },
  {
   "cell_type": "code",
   "execution_count": 20,
   "metadata": {},
   "outputs": [],
   "source": [
    "for ramp_class, c, m, in zip([\"UNUN\", \"--\", \"-+\", \"-UN\", \"++\", \"+-\", \"+UN\"], \n",
    "                             [ \"grey\", \"palevioletred\", \"palevioletred\", \"palevioletred\", \"palegreen\", \"palegreen\", \"palegreen\"], \n",
    "                             [\"x\", \"o\", \"^\", \"+\", \"o\", \"^\", \"+\"]):\n",
    "    subset = M21_master_data[M21_master_data['outbound_homebound_ramp_class'] == ramp_class]\n",
    "    \n",
    "    for i, cluster_df in subset.iterrows():\n",
    "        cluster_df = cluster_df.to_frame().T.reset_index(drop=True)\n",
    "        grid_score = cluster_df[\"grid_score\"].iloc[0]\n",
    "        cluster_id = cluster_df[\"cluster_id\"].iloc[0]\n",
    "        session_id_vr = cluster_df[\"session_id_vr\"].iloc[0] \n",
    "        fig, ax = plt.subplots(figsize=(4, 4)) \n",
    "        plot_firing_rate_maps_per_trial_2(cluster_df, track_length=200, ax=ax, save_path=None)\n",
    "        plt.savefig(f\"/mnt/datastore/Harry/plot_viewer/ramp_maps/{ramp_class}_c{cluster_id}_long_{session_id_vr}.png\", dpi=100)\n",
    "        plt.close()\n",
    "        fig, ax = plt.subplots(figsize=(4, 2)) \n",
    "        plot_firing_rate_maps_short(cluster_df, track_length=200, ax=ax, save_path=None)\n",
    "        ax.set_title(f\"RC: {ramp_class}, GS: {np.round(grid_score, decimals=2)}\")\n",
    "        plt.savefig(f\"/mnt/datastore/Harry/plot_viewer/ramp_maps/{ramp_class}_c{cluster_id}_short_{session_id_vr}.png\", dpi=100)\n",
    "        plt.close()\n",
    "        plt.close('all') \n",
    " \n",
    "        \n",
    "        "
   ]
  },
  {
   "cell_type": "code",
   "execution_count": null,
   "metadata": {},
   "outputs": [],
   "source": [
    "\n"
   ]
  }
 ],
 "metadata": {
  "kernelspec": {
   "display_name": "si",
   "language": "python",
   "name": "python3"
  },
  "language_info": {
   "codemirror_mode": {
    "name": "ipython",
    "version": 3
   },
   "file_extension": ".py",
   "mimetype": "text/x-python",
   "name": "python",
   "nbconvert_exporter": "python",
   "pygments_lexer": "ipython3",
   "version": "3.10.14"
  }
 },
 "nbformat": 4,
 "nbformat_minor": 2
}
