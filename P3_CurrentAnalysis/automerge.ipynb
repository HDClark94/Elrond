{
 "cells": [
  {
   "cell_type": "code",
   "execution_count": 1,
   "metadata": {},
   "outputs": [],
   "source": [
    "import os\n",
    "import spikeinterface.full as si\n",
    "from spikeinterface.curation import get_potential_auto_merge\n",
    "from Elrond.P1_SpikeSort.spikesort import make_recording_from_paths_and_get_times"
   ]
  },
  {
   "cell_type": "code",
   "execution_count": 2,
   "metadata": {},
   "outputs": [
    {
     "data": {
      "text/plain": [
       "['/mnt/datastore/Harry/Cohort11_april2024/vr/M21_D16_2024-05-16_14-40-02_VR1',\n",
       " '/mnt/datastore/Harry/Cohort11_april2024/of/M21_D16_2024-05-16_15-30-33_OF2',\n",
       " '/mnt/datastore/Harry/Cohort11_april2024/of/M21_D16_2024-05-16_14-03-05_OF1']"
      ]
     },
     "execution_count": 2,
     "metadata": {},
     "output_type": "execute_result"
    }
   ],
   "source": [
    "mouse = 21\n",
    "day = 16\n",
    "mouse_day = \"M\"+str(mouse)+\"_D\"+str(day)\n",
    "project_path = \"/mnt/datastore/Harry/Cohort11_april2024/\"\n",
    "recording_paths = []\n",
    "recording_paths.extend([f.path for f in os.scandir(project_path+\"vr\") if f.is_dir()])\n",
    "recording_paths.extend([f.path for f in os.scandir(project_path+\"of\") if f.is_dir()])\n",
    "recording_paths = [s for s in recording_paths if mouse_day in s]\n",
    "recording_paths"
   ]
  },
  {
   "cell_type": "code",
   "execution_count": 3,
   "metadata": {},
   "outputs": [],
   "source": [
    "sorting_analyzer = si.load_sorting_analyzer('/mnt/datastore/Harry/Cohort11_april2024/derivatives/M21/D16/ephys/sorting_analyzer')"
   ]
  },
  {
   "cell_type": "code",
   "execution_count": 4,
   "metadata": {},
   "outputs": [],
   "source": [
    "recording_mono, rec_samples = make_recording_from_paths_and_get_times(recording_paths)"
   ]
  },
  {
   "cell_type": "code",
   "execution_count": 5,
   "metadata": {},
   "outputs": [],
   "source": [
    "sorting_analyzer._recording = recording_mono"
   ]
  },
  {
   "cell_type": "code",
   "execution_count": 6,
   "metadata": {},
   "outputs": [
    {
     "data": {
      "text/plain": [
       "['noise_levels', 'correlograms', 'random_spikes']"
      ]
     },
     "execution_count": 6,
     "metadata": {},
     "output_type": "execute_result"
    }
   ],
   "source": [
    "sorting_analyzer.get_saved_extension_names()\n"
   ]
  },
  {
   "cell_type": "code",
   "execution_count": 19,
   "metadata": {},
   "outputs": [
    {
     "data": {
      "application/vnd.jupyter.widget-view+json": {
       "model_id": "99a74e859f8840c981d0a6ca151cbcb7",
       "version_major": 2,
       "version_minor": 0
      },
      "text/plain": [
       "Compute : spike_amplitudes:   0%|          | 0/4240 [00:00<?, ?it/s]"
      ]
     },
     "metadata": {},
     "output_type": "display_data"
    }
   ],
   "source": [
    "sorting_analyzer.compute([\"spike_amplitudes\"])\n"
   ]
  },
  {
   "cell_type": "code",
   "execution_count": 7,
   "metadata": {},
   "outputs": [
    {
     "data": {
      "application/vnd.jupyter.widget-view+json": {
       "model_id": "b4e0844e902a4359ad27c1f83abe49ff",
       "version_major": 2,
       "version_minor": 0
      },
      "text/plain": [
       "estimate_templates_with_accumulator:   0%|          | 0/4240 [00:00<?, ?it/s]"
      ]
     },
     "metadata": {},
     "output_type": "display_data"
    }
   ],
   "source": [
    "sorting_analyzer.compute([\"random_spikes\", \"templates\", \"template_similarity\", \n",
    "                          \"correlograms\", \"unit_locations\", \"spike_locations\", \n",
    "                          \"spike_amplitudes\"])\n"
   ]
  },
  {
   "cell_type": "code",
   "execution_count": 18,
   "metadata": {},
   "outputs": [
    {
     "ename": "ValueError",
     "evalue": "knn requires spike_amplitudes extension",
     "output_type": "error",
     "traceback": [
      "\u001b[0;31m---------------------------------------------------------------------------\u001b[0m",
      "\u001b[0;31mValueError\u001b[0m                                Traceback (most recent call last)",
      "Cell \u001b[0;32mIn[18], line 3\u001b[0m\n\u001b[1;32m      1\u001b[0m \u001b[38;5;66;03m# with resolve_graph=True, merges_resolved is a list of merge groups,\u001b[39;00m\n\u001b[1;32m      2\u001b[0m \u001b[38;5;66;03m# which can contain more than two units\u001b[39;00m\n\u001b[0;32m----> 3\u001b[0m merge_unit_groups \u001b[38;5;241m=\u001b[39m \u001b[43mget_potential_auto_merge\u001b[49m\u001b[43m(\u001b[49m\n\u001b[1;32m      4\u001b[0m \u001b[43m    \u001b[49m\u001b[43msorting_analyzer\u001b[49m\u001b[38;5;241;43m=\u001b[39;49m\u001b[43msorting_analyzer\u001b[49m\u001b[43m,\u001b[49m\n\u001b[1;32m      5\u001b[0m \u001b[43m    \u001b[49m\u001b[43mpreset\u001b[49m\u001b[38;5;241;43m=\u001b[39;49m\u001b[38;5;124;43m\"\u001b[39;49m\u001b[38;5;124;43mfeature_neighbors\u001b[39;49m\u001b[38;5;124;43m\"\u001b[39;49m\u001b[43m,\u001b[49m\n\u001b[1;32m      6\u001b[0m \u001b[43m    \u001b[49m\u001b[43mresolve_graph\u001b[49m\u001b[38;5;241;43m=\u001b[39;49m\u001b[38;5;28;43;01mTrue\u001b[39;49;00m\n\u001b[1;32m      7\u001b[0m \u001b[43m)\u001b[49m\n\u001b[1;32m      9\u001b[0m \u001b[38;5;66;03m# here we apply the merges\u001b[39;00m\n\u001b[1;32m     10\u001b[0m sorting_analyzer_merged \u001b[38;5;241m=\u001b[39m sorting_analyzer\u001b[38;5;241m.\u001b[39mmerge_units(merge_unit_groups\u001b[38;5;241m=\u001b[39mmerge_unit_groups)\n",
      "File \u001b[0;32m~/miniconda3/envs/si/lib/python3.10/site-packages/spikeinterface/curation/auto_merge.py:235\u001b[0m, in \u001b[0;36mget_potential_auto_merge\u001b[0;34m(sorting_analyzer, preset, resolve_graph, min_spikes, min_snr, max_distance_um, corr_diff_thresh, template_diff_thresh, contamination_thresh, presence_distance_thresh, p_value, cc_thresh, censored_period_ms, refractory_period_ms, sigma_smooth_ms, adaptative_window_thresh, censor_correlograms_ms, firing_contamination_balance, k_nn, knn_kwargs, presence_distance_kwargs, extra_outputs, steps)\u001b[0m\n\u001b[1;32m    233\u001b[0m         \u001b[38;5;28;01mfor\u001b[39;00m ext \u001b[38;5;129;01min\u001b[39;00m _required_extensions[step]:\n\u001b[1;32m    234\u001b[0m             \u001b[38;5;28;01mif\u001b[39;00m \u001b[38;5;129;01mnot\u001b[39;00m sorting_analyzer\u001b[38;5;241m.\u001b[39mhas_extension(ext):\n\u001b[0;32m--> 235\u001b[0m                 \u001b[38;5;28;01mraise\u001b[39;00m \u001b[38;5;167;01mValueError\u001b[39;00m(\u001b[38;5;124mf\u001b[39m\u001b[38;5;124m\"\u001b[39m\u001b[38;5;132;01m{\u001b[39;00mstep\u001b[38;5;132;01m}\u001b[39;00m\u001b[38;5;124m requires \u001b[39m\u001b[38;5;132;01m{\u001b[39;00mext\u001b[38;5;132;01m}\u001b[39;00m\u001b[38;5;124m extension\u001b[39m\u001b[38;5;124m\"\u001b[39m)\n\u001b[1;32m    237\u001b[0m n \u001b[38;5;241m=\u001b[39m unit_ids\u001b[38;5;241m.\u001b[39msize\n\u001b[1;32m    238\u001b[0m pair_mask \u001b[38;5;241m=\u001b[39m np\u001b[38;5;241m.\u001b[39mtriu(np\u001b[38;5;241m.\u001b[39marange(n)) \u001b[38;5;241m>\u001b[39m \u001b[38;5;241m0\u001b[39m\n",
      "\u001b[0;31mValueError\u001b[0m: knn requires spike_amplitudes extension"
     ]
    }
   ],
   "source": [
    "# with resolve_graph=True, merges_resolved is a list of merge groups,\n",
    "# which can contain more than two units\n",
    "merge_unit_groups = get_potential_auto_merge(\n",
    "    sorting_analyzer=sorting_analyzer,\n",
    "    preset=\"feature_neighbors\",\n",
    "    resolve_graph=True\n",
    ")\n",
    "\n",
    "# here we apply the merges\n",
    "sorting_analyzer_merged = sorting_analyzer.merge_units(merge_unit_groups=merge_unit_groups)"
   ]
  },
  {
   "cell_type": "code",
   "execution_count": 11,
   "metadata": {},
   "outputs": [
    {
     "name": "stdout",
     "output_type": "stream",
     "text": [
      "starting with  505 units\n",
      "ending with  505 units\n"
     ]
    }
   ],
   "source": [
    "print(\"starting with \", sorting_analyzer.get_num_units(), \"units\")\n",
    "print(\"ending with \", sorting_analyzer_merged.get_num_units(), \"units\")"
   ]
  },
  {
   "cell_type": "code",
   "execution_count": 15,
   "metadata": {},
   "outputs": [],
   "source": [
    "sorting_analyzer.get_sorting_property(\"snr\")"
   ]
  }
 ],
 "metadata": {
  "kernelspec": {
   "display_name": "si",
   "language": "python",
   "name": "python3"
  },
  "language_info": {
   "codemirror_mode": {
    "name": "ipython",
    "version": 3
   },
   "file_extension": ".py",
   "mimetype": "text/x-python",
   "name": "python",
   "nbconvert_exporter": "python",
   "pygments_lexer": "ipython3",
   "version": "3.10.14"
  }
 },
 "nbformat": 4,
 "nbformat_minor": 2
}
